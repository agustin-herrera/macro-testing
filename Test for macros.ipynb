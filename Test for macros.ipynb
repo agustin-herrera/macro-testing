{
 "cells": [
  {
   "cell_type": "code",
   "execution_count": null,
   "id": "53b851d6",
   "metadata": {
    "scrolled": true
   },
   "outputs": [],
   "source": [
    "pip install pywinauto"
   ]
  },
  {
   "cell_type": "code",
   "execution_count": 1,
   "id": "f1129645",
   "metadata": {},
   "outputs": [],
   "source": [
    "from pywinauto import application as autoWin"
   ]
  },
  {
   "cell_type": "code",
   "execution_count": 2,
   "id": "8ecd414e",
   "metadata": {},
   "outputs": [],
   "source": [
    "import xlwings as xw"
   ]
  },
  {
   "cell_type": "code",
   "execution_count": 3,
   "id": "d8641a49",
   "metadata": {},
   "outputs": [],
   "source": [
    "app = xw.App(visible=False) "
   ]
  },
  {
   "cell_type": "code",
   "execution_count": 4,
   "id": "584a0b9b",
   "metadata": {},
   "outputs": [],
   "source": [
    "wb = app.books.open('Test.xlsm')"
   ]
  },
  {
   "cell_type": "code",
   "execution_count": 8,
   "id": "193166a9",
   "metadata": {},
   "outputs": [],
   "source": [
    "sheet = wb.sheets(\"Sheet1\")"
   ]
  },
  {
   "cell_type": "code",
   "execution_count": 9,
   "id": "1c739ad7",
   "metadata": {
    "scrolled": true
   },
   "outputs": [
    {
     "data": {
      "text/plain": [
       "[['A', 'B', 'C', 'D'],\n",
       " [1.0, 4.0, 7.0, 10.0],\n",
       " [2.0, 5.0, 8.0, 11.0],\n",
       " [3.0, 6.0, 9.0, 12.0]]"
      ]
     },
     "execution_count": 9,
     "metadata": {},
     "output_type": "execute_result"
    }
   ],
   "source": [
    "sheet.range(\"A1:D4\").value"
   ]
  },
  {
   "cell_type": "code",
   "execution_count": 22,
   "id": "12483b86",
   "metadata": {},
   "outputs": [],
   "source": [
    "macro1 = wb.macro(\"suma\")"
   ]
  },
  {
   "cell_type": "code",
   "execution_count": 23,
   "id": "41284f09",
   "metadata": {},
   "outputs": [],
   "source": [
    "macro2 = wb.macro(\"delete_B10\")"
   ]
  },
  {
   "cell_type": "code",
   "execution_count": 38,
   "id": "260954b3",
   "metadata": {},
   "outputs": [],
   "source": [
    "macro1()"
   ]
  },
  {
   "cell_type": "code",
   "execution_count": 25,
   "id": "8298c040",
   "metadata": {},
   "outputs": [],
   "source": [
    "macro2()"
   ]
  },
  {
   "cell_type": "code",
   "execution_count": null,
   "id": "d8fcde7e",
   "metadata": {},
   "outputs": [],
   "source": []
  },
  {
   "cell_type": "code",
   "execution_count": 26,
   "id": "39129770",
   "metadata": {},
   "outputs": [],
   "source": [
    "app = autoWin.Application()"
   ]
  },
  {
   "cell_type": "code",
   "execution_count": 15,
   "id": "87098f78",
   "metadata": {
    "scrolled": true
   },
   "outputs": [
    {
     "name": "stderr",
     "output_type": "stream",
     "text": [
      "c:\\users\\ah31670\\appdata\\local\\programs\\python\\python38\\lib\\site-packages\\pywinauto\\application.py:1085: UserWarning: 32-bit application should be automated using 32-bit Python (you use 64-bit Python)\n",
      "  warnings.warn(\n"
     ]
    }
   ],
   "source": [
    "con = app.connect(title = 'Microsoft Excel')"
   ]
  },
  {
   "cell_type": "code",
   "execution_count": 16,
   "id": "19f85e6a",
   "metadata": {},
   "outputs": [
    {
     "name": "stdout",
     "output_type": "stream",
     "text": [
      "Control Identifiers:\n",
      "\n",
      "Dialog - 'Microsoft Excel'    (L999, T435, R1206, B669)\n",
      "['Dialog', 'Microsoft ExcelDialog', 'Microsoft Excel']\n",
      "child_window(title=\"Microsoft Excel\", class_name=\"#32770\")\n",
      "   | \n",
      "   | Button - 'OK'    (L1055, T598, R1168, B638)\n",
      "   | ['Button', 'OK', 'OKButton']\n",
      "   | child_window(title=\"OK\", class_name=\"Button\")\n",
      "   | \n",
      "   | Static - 'La suma es: 10'    (L1026, T520, R1150, B546)\n",
      "   | ['Static', 'La suma es: 10', 'La suma es: 10Static']\n",
      "   | child_window(title=\"La suma es: 10\", class_name=\"Static\")\n"
     ]
    }
   ],
   "source": [
    "app.MicrosoftExcel.print_control_identifiers()"
   ]
  },
  {
   "cell_type": "code",
   "execution_count": 32,
   "id": "67f642cd",
   "metadata": {},
   "outputs": [],
   "source": [
    "app.MicrosoftExcel.OK.click_input()"
   ]
  },
  {
   "cell_type": "code",
   "execution_count": 27,
   "id": "b0004379",
   "metadata": {
    "scrolled": true
   },
   "outputs": [
    {
     "name": "stderr",
     "output_type": "stream",
     "text": [
      "c:\\users\\ah31670\\appdata\\local\\programs\\python\\python38\\lib\\site-packages\\pywinauto\\application.py:1085: UserWarning: 32-bit application should be automated using 32-bit Python (you use 64-bit Python)\n",
      "  warnings.warn(\n"
     ]
    }
   ],
   "source": [
    "con = app.connect(title = 'Confirm')"
   ]
  },
  {
   "cell_type": "code",
   "execution_count": 28,
   "id": "713f66a5",
   "metadata": {},
   "outputs": [
    {
     "name": "stdout",
     "output_type": "stream",
     "text": [
      "Control Identifiers:\n",
      "\n",
      "Dialog - 'Confirm'    (L983, T418, R1511, B652)\n",
      "['Dialog', 'ConfirmDialog', 'Confirm']\n",
      "child_window(title=\"Confirm\", class_name=\"#32770\")\n",
      "   | \n",
      "   | Button - '&Yes'    (L1237, T581, R1350, B621)\n",
      "   | ['&Yes', 'Button', '&YesButton', 'Button0', 'Button1']\n",
      "   | child_window(title=\"&Yes\", class_name=\"Button\")\n",
      "   | \n",
      "   | Button - '&No'    (L1363, T581, R1476, B621)\n",
      "   | ['&NoButton', 'Button2', '&No']\n",
      "   | child_window(title=\"&No\", class_name=\"Button\")\n",
      "   | \n",
      "   | Static - 'Are you sure that you wish to delete the contents of B10 ?'    (L1010, T503, R1456, B529)\n",
      "   | ['Static', 'Are you sure that you wish to delete the contents of B10 ?', 'Are you sure that you wish to delete the contents of B10 ?Static']\n",
      "   | child_window(title=\"Are you sure that you wish to delete the contents of B10 ?\", class_name=\"Static\")\n"
     ]
    }
   ],
   "source": [
    "app.Confirm.print_control_identifiers()"
   ]
  },
  {
   "cell_type": "code",
   "execution_count": 31,
   "id": "377c1b5f",
   "metadata": {},
   "outputs": [],
   "source": [
    "app.Confirm.Yes.click_input()"
   ]
  },
  {
   "cell_type": "code",
   "execution_count": 34,
   "id": "d3adeab7",
   "metadata": {},
   "outputs": [],
   "source": [
    "import time\n",
    "import concurrent.futures as fut"
   ]
  },
  {
   "cell_type": "code",
   "execution_count": 41,
   "id": "440dbd58",
   "metadata": {},
   "outputs": [],
   "source": [
    "def call_macro(i, m1, m2):\n",
    "    if i == 0:\n",
    "        m2()\n",
    "        \n",
    "    elif i == 1:\n",
    "        m1()\n",
    "        \n",
    "        \n",
    "    elif i == 2:\n",
    "        m2()\n",
    "        \n",
    "    print(\"exit\")\n",
    "    return i\n",
    "    \n",
    "    \n",
    "def click(j, app):\n",
    "    time.sleep(2)\n",
    "    print(\"valor de i del otro proceso\", j)\n",
    "    k = 0\n",
    "    while k < 5:\n",
    "        print(\"Tirada numero\", k)\n",
    "        k += 1\n",
    "        if j == 0:\n",
    "            try:\n",
    "                con = app.connect(title = 'Confirm')\n",
    "                app.Confirm.No.click_input()\n",
    "                break\n",
    "            except:\n",
    "                print(\"pass 0\")\n",
    "        elif j == 1 or 3 :\n",
    "            try:\n",
    "                con = app.connect(title = 'Microsoft Excel')\n",
    "                app.Microsoft.Ok.click_input()\n",
    "                break\n",
    "            except:\n",
    "                print(\"pass 1\")\n",
    "        elif j == 2:\n",
    "            try:\n",
    "                con = app.connect(title = 'Confirm')\n",
    "                app.Confirm.Yes.click_input()\n",
    "                break\n",
    "            except:\n",
    "                print(\"pass 2\")\n",
    "        \n",
    "    \n",
    "   \n",
    "\n",
    "    \n",
    "\n"
   ]
  },
  {
   "cell_type": "markdown",
   "id": "68c01213",
   "metadata": {},
   "source": [
    "for i in range(3):\n",
    "    print(i)\n",
    "    a = executor.submit(call_macro(i, macro1, macro2))\n",
    "    b = executor.submit(click(i, app))\n",
    "    \n",
    "    "
   ]
  },
  {
   "cell_type": "code",
   "execution_count": null,
   "id": "663c8eb9",
   "metadata": {},
   "outputs": [],
   "source": [
    "i = 0"
   ]
  },
  {
   "cell_type": "code",
   "execution_count": null,
   "id": "98e0c2de",
   "metadata": {},
   "outputs": [],
   "source": [
    "call_macro(1, macro1, macro2)"
   ]
  },
  {
   "cell_type": "code",
   "execution_count": null,
   "id": "e82a2488",
   "metadata": {},
   "outputs": [],
   "source": [
    "def wait_a():\n",
    "    print('proceso a', a.result())"
   ]
  },
  {
   "cell_type": "code",
   "execution_count": 42,
   "id": "27d9ad06",
   "metadata": {
    "scrolled": true
   },
   "outputs": [
    {
     "name": "stdout",
     "output_type": "stream",
     "text": [
      "exit\n",
      "valor de i del otro proceso 1\n",
      "Tirada numero 0\n",
      "pass 1\n",
      "Tirada numero 1\n",
      "pass 1\n",
      "Tirada numero 2\n",
      "pass 1\n",
      "Tirada numero 3\n",
      "pass 1\n",
      "Tirada numero 4\n",
      "pass 1\n"
     ]
    }
   ],
   "source": [
    "executor = fut.ThreadPoolExecutor(max_workers=2)\n",
    "a = executor.submit(call_macro(1, macro1, macro2)) \n",
    "b = executor.submit(click(1, app))\n"
   ]
  },
  {
   "cell_type": "code",
   "execution_count": 35,
   "id": "2673f415",
   "metadata": {},
   "outputs": [],
   "source": [
    "def wait_on_b():\n",
    "    time.sleep(5)\n",
    "    print('AAA')\n",
    "    return 5\n",
    "\n",
    "def wait_on_a():\n",
    "    time.sleep(2.5)\n",
    "    print(x.result())\n",
    "    return 6\n"
   ]
  },
  {
   "cell_type": "code",
   "execution_count": 36,
   "id": "bfec5cca",
   "metadata": {},
   "outputs": [],
   "source": [
    "executor = fut.ThreadPoolExecutor(max_workers=2)"
   ]
  },
  {
   "cell_type": "code",
   "execution_count": 39,
   "id": "bd7fa849",
   "metadata": {
    "scrolled": true
   },
   "outputs": [
    {
     "name": "stdout",
     "output_type": "stream",
     "text": [
      "AAA\n",
      "5\n"
     ]
    }
   ],
   "source": [
    "y = executor.submit(wait_on_a)\n",
    "x = executor.submit(wait_on_b)\n"
   ]
  }
 ],
 "metadata": {
  "kernelspec": {
   "display_name": "Python 3 (ipykernel)",
   "language": "python",
   "name": "python3"
  },
  "language_info": {
   "codemirror_mode": {
    "name": "ipython",
    "version": 3
   },
   "file_extension": ".py",
   "mimetype": "text/x-python",
   "name": "python",
   "nbconvert_exporter": "python",
   "pygments_lexer": "ipython3",
   "version": "3.8.10"
  }
 },
 "nbformat": 4,
 "nbformat_minor": 5
}
